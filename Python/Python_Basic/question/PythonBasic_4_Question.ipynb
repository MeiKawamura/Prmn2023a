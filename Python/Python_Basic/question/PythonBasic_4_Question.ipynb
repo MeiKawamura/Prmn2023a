{
  "nbformat": 4,
  "nbformat_minor": 0,
  "metadata": {
    "colab": {
      "provenance": []
    },
    "kernelspec": {
      "name": "python3",
      "display_name": "Python 3"
    },
    "language_info": {
      "name": "python"
    }
  },
  "cells": [
    {
      "cell_type": "markdown",
      "source": [
        "<a href=\"https://colab.research.google.com/github/kiryu-3/Prmn2023/blob/main/Python/Python_Basic/question/PythonBasic_4_Question.ipynb\" target=\"_parent\"><img src=\"https://colab.research.google.com/assets/colab-badge.svg\" alt=\"Open In Colab\"/></a>"
      ],
      "metadata": {
        "id": "TA5kKi-LY1xg"
      }
    },
    {
      "cell_type": "markdown",
      "source": [
        "# 第4章 課題"
      ],
      "metadata": {
        "id": "r-kcfL2yEU8b"
      }
    },
    {
      "cell_type": "markdown",
      "source": [
        "## 課題1"
      ],
      "metadata": {
        "id": "UqgRlaNaaWsU"
      }
    },
    {
      "cell_type": "markdown",
      "source": [
        "10から2800まで、10飛ばしの数を乱数で生成し、2220000に足してください。  \n",
        "\n",
        "この数を5つ生成し、一つのリストに格納した後、最終的に頭に\"b\"をつけて5つ出力してください。"
      ],
      "metadata": {
        "id": "dMngS2Dtai7U"
      }
    },
    {
      "cell_type": "markdown",
      "source": [
        "＜実行結果例＞\n",
        "``` py  \n",
        "['b2220400', 'b2221750', 'b2222480', 'b2221720', 'b2220380']\n",
        "```"
      ],
      "metadata": {
        "id": "Ys4Y3shObw3w"
      }
    },
    {
      "cell_type": "code",
      "source": [
        "# 入力用\n",
        "import random\n",
        "list = []\n",
        "for i in range(5):\n",
        "  strnum = str(2220000 + random.randrange(10,2800,10))\n",
        "  list.append('b'+strnum)\n",
        "print(list)"
      ],
      "metadata": {
        "id": "UaBFEY3Hdbsg",
        "outputId": "58cd755e-46d6-4402-d813-6fde77ee81d8",
        "colab": {
          "base_uri": "https://localhost:8080/"
        }
      },
      "execution_count": 5,
      "outputs": [
        {
          "output_type": "stream",
          "name": "stdout",
          "text": [
            "['b2220720', 'b2220770', 'b2220610', 'b2221040', 'b2222190']\n"
          ]
        }
      ]
    },
    {
      "cell_type": "markdown",
      "source": [
        "## 課題2"
      ],
      "metadata": {
        "id": "yRsfay5_8FuJ"
      }
    },
    {
      "cell_type": "markdown",
      "source": [
        "1桁の自然数を乱数を使って5つ格納した2つのリストを作ってください。  \n",
        "この時、一つのリスト内で5つの値が重複しないようにしてください\n",
        "\n",
        "その後、対応する要素を足し合わせた新しいリストを出力してください"
      ],
      "metadata": {
        "id": "4WbYBFGr8Ht3"
      }
    },
    {
      "cell_type": "markdown",
      "source": [
        "＜実行結果例＞\n",
        "``` py  \n",
        "1つ目のリスト：[1, 2, 3, 4, 5]  \n",
        "2つ目のリスト：[1, 3, 5, 7, 9]  \n",
        "足し合わせたリスト：[2, 5, 8, 11, 14]\n",
        "```"
      ],
      "metadata": {
        "id": "A0ImPPha84Nb"
      }
    },
    {
      "cell_type": "code",
      "source": [
        "import numpy as np\n",
        "\n",
        "def rdm():\n",
        "    numlist = []\n",
        "    while len(numlist) < 5:\n",
        "        num = np.random.randint(1, 9)\n",
        "        if num not in numlist:\n",
        "            numlist.append(num)\n",
        "    return numlist\n",
        "\n",
        "list1 = rdm()\n",
        "list2 = rdm()\n",
        "sum_array = np.array(list1) + np.array(list2)\n",
        "\n",
        "print(list1)\n",
        "print(list2)\n",
        "print(sum_array)\n"
      ],
      "metadata": {
        "id": "TaJm8jn2MHmk",
        "outputId": "64b95e77-ab37-4e26-9bad-40cc17aac235",
        "colab": {
          "base_uri": "https://localhost:8080/"
        }
      },
      "execution_count": 12,
      "outputs": [
        {
          "output_type": "stream",
          "name": "stdout",
          "text": [
            "[1, 7, 8, 6, 4]\n",
            "[5, 7, 3, 6, 8]\n",
            "[ 6 14 11 12 12]\n"
          ]
        }
      ]
    },
    {
      "cell_type": "markdown",
      "source": [
        "## 課題3"
      ],
      "metadata": {
        "id": "-qZw_n3X8xrW"
      }
    },
    {
      "cell_type": "markdown",
      "source": [
        "リストの中身を指定した数で分割してみます。\n",
        "\n",
        "以下のリストには都道府県47つが格納されています。"
      ],
      "metadata": {
        "id": "vxwATeobQf_U"
      }
    },
    {
      "cell_type": "code",
      "source": [
        "todohuken_list = [\n",
        "    '北海道', '青森県', '岩手県', '宮城県', '秋田県', '山形県', '福島県', '茨城県', '栃木県', '群馬県', \n",
        "    '埼玉県', '千葉県', '東京都', '神奈川県', '新潟県', '富山県', '石川県', '福井県', '山梨県', '長野県', \n",
        "    '岐阜県', '静岡県', '愛知県', '三重県', '滋賀県', '京都府', '大阪府', '兵庫県', '奈良県', '和歌山県', \n",
        "    '鳥取県', '島根県', '岡山県', '広島県', '山口県', '徳島県', '香川県', '愛媛県', '高知県',  '福岡県', \n",
        "    '佐賀県', '長崎県', '熊本県', '大分県', '宮崎県', '鹿児島県', '沖縄県',\n",
        "]"
      ],
      "metadata": {
        "id": "8ZdyRWbERGAY"
      },
      "execution_count": 10,
      "outputs": []
    },
    {
      "cell_type": "markdown",
      "source": [
        "  \n",
        "これをランダムに1つのリストのサイズを4として分割してください"
      ],
      "metadata": {
        "id": "tGPa1uU6Qs2c"
      }
    },
    {
      "cell_type": "markdown",
      "source": [
        "＜実行結果例＞  \n",
        "``` py \n",
        "[['宮崎県', '茨城県', '栃木県', '千葉県'], … , ['岩手県', '滋賀県', '宮城県']]\n",
        "```"
      ],
      "metadata": {
        "id": "PWLTwz0TXzm_"
      }
    },
    {
      "cell_type": "code",
      "source": [
        "# 入力用\n",
        "todohuken_list = [\n",
        "    '北海道', '青森県', '岩手県', '宮城県', '秋田県', '山形県', '福島県', '茨城県', '栃木県', '群馬県', \n",
        "    '埼玉県', '千葉県', '東京都', '神奈川県', '新潟県', '富山県', '石川県', '福井県', '山梨県', '長野県', \n",
        "    '岐阜県', '静岡県', '愛知県', '三重県', '滋賀県', '京都府', '大阪府', '兵庫県', '奈良県', '和歌山県', \n",
        "    '鳥取県', '島根県', '岡山県', '広島県', '山口県', '徳島県', '香川県', '愛媛県', '高知県',  '福岡県', \n",
        "    '佐賀県', '長崎県', '熊本県', '大分県', '宮崎県', '鹿児島県', '沖縄県',\n",
        "]\n",
        "\n",
        "import random\n",
        "list4 = []\n",
        "tdhk_list = []\n",
        "\n",
        "def wakeru():\n",
        "    sublist = []\n",
        "    for i in range(4):\n",
        "        m = random.randint(0, 46)\n",
        "        s = todohuken_list[m]\n",
        "        sublist.append(s)\n",
        "    return sublist\n",
        "\n",
        "for i in range(47 // 4 + 1):\n",
        "    sublist = wakeru()\n",
        "    tdhk_list.append(sublist)\n",
        "\n",
        "print(tdhk_list)"
      ],
      "metadata": {
        "id": "rgPlOseCTC_h",
        "outputId": "84b0a305-bf83-4dce-9170-8fd4015f022f",
        "colab": {
          "base_uri": "https://localhost:8080/"
        }
      },
      "execution_count": 28,
      "outputs": [
        {
          "output_type": "stream",
          "name": "stdout",
          "text": [
            "[['岡山県', '京都府', '京都府', '秋田県'], ['岩手県', '東京都', '秋田県', '長野県'], ['山梨県', '和歌山県', '長野県', '香川県'], ['福島県', '長野県', '埼玉県', '神奈川県'], ['静岡県', '山形県', '静岡県', '大分県'], ['愛媛県', '熊本県', '山梨県', '滋賀県'], ['高知県', '茨城県', '愛媛県', '茨城県'], ['石川県', '香川県', '鳥取県', '愛媛県'], ['千葉県', '岐阜県', '島根県', '長野県'], ['山梨県', '青森県', '福岡県', '兵庫県'], ['群馬県', '茨城県', '長野県', '青森県'], ['埼玉県', '岐阜県', '山梨県', '福岡県']]\n"
          ]
        }
      ]
    },
    {
      "cell_type": "markdown",
      "source": [
        "## 課題4"
      ],
      "metadata": {
        "id": "W573lh39MOlj"
      }
    },
    {
      "cell_type": "markdown",
      "source": [
        "ある大学の名前と年齢が、次のような形式で格納されたリスト `university_list` があります。"
      ],
      "metadata": {
        "id": "sSIMKY-aNcIx"
      }
    },
    {
      "cell_type": "code",
      "source": [
        "university_list = [\n",
        "    \"Chitose,25\",\n",
        "    \"Hokudai,105\",\n",
        "    \"Muroran,74\",\n",
        "    \"Hakodate,23\",\n",
        "]"
      ],
      "metadata": {
        "id": "v-wGyWuKK3wl"
      },
      "execution_count": 4,
      "outputs": []
    },
    {
      "cell_type": "markdown",
      "source": [
        "このリストを、年齢順にソートして、新たなリストとして出力してください"
      ],
      "metadata": {
        "id": "XIxDf9QgO1iH"
      }
    },
    {
      "cell_type": "markdown",
      "source": [
        "＜実行結果＞  \n",
        "``` py\n",
        "['Chitose,25', 'Hokudai,105', 'Muroran,74', 'Hakodate,23']\n",
        "['Hakodate,23', 'Chitose,25', 'Muroran,74', 'Hokudai,105']\n",
        "```"
      ],
      "metadata": {
        "id": "0Z2-_1dAQENU"
      }
    },
    {
      "cell_type": "code",
      "source": [
        "# 入力用\n",
        "university_list = [\n",
        "    \"Chitose,25\",\n",
        "    \"Hokudai,105\",\n",
        "    \"Muroran,74\",\n",
        "    \"Hakodate,23\",\n",
        "]\n",
        "\n",
        "sorted_list = sorted(university_list, key=lambda x: int(x.split(\",\")[1]))\n",
        "\n",
        "print(university_list)\n",
        "print(sorted_list)"
      ],
      "metadata": {
        "id": "ficNVfkgR5Kv",
        "outputId": "0da55c9b-bab1-4a45-da21-983b3a028426",
        "colab": {
          "base_uri": "https://localhost:8080/"
        }
      },
      "execution_count": 3,
      "outputs": [
        {
          "output_type": "stream",
          "name": "stdout",
          "text": [
            "['Chitose,25', 'Hokudai,105', 'Muroran,74', 'Hakodate,23']\n",
            "['Hakodate,23', 'Chitose,25', 'Muroran,74', 'Hokudai,105']\n"
          ]
        }
      ]
    },
    {
      "cell_type": "markdown",
      "source": [
        "## 課題5"
      ],
      "metadata": {
        "id": "QijnXk7UWAVC"
      }
    },
    {
      "cell_type": "markdown",
      "source": [
        "**FizzBuzz（フィズ・バズ）問題**という問題について解いていきます。\n",
        "\n",
        "もともとは、英語圏で長距離ドライブ中や飲み会の時に行われる言葉遊びです。"
      ],
      "metadata": {
        "id": "m7F47Q1mWCA6"
      }
    },
    {
      "cell_type": "markdown",
      "source": [
        "以下のような問題になります。\n",
        "\n",
        "1～Nまでの整数を順に出力しなさい。ただし、例外として以下のルールを守ること。\n",
        "\n",
        "* 3で割り切れる数字の場合は\"Fizz\"を出力\n",
        "* 5で割り切れる数字の場合は\"Buzz\"を出力\n",
        "* どちらでも割り切れる数字の場合は\"FizzBuzz\"を出力"
      ],
      "metadata": {
        "id": "fArw0VcNWgwZ"
      }
    },
    {
      "cell_type": "markdown",
      "source": [
        "ここではN=100として、まずは一つのリストに\n",
        "\"Fizz\" か \"Buzz\" か \"FizzBuzz\" か \"others\" を格納してください。\n",
        "\n",
        "その後、それぞれの要素の数をカウントしてください。"
      ],
      "metadata": {
        "id": "SYqkpYstWm7Z"
      }
    },
    {
      "cell_type": "markdown",
      "source": [
        "＜実行結果＞  \n",
        "``` py\n",
        "FizzBuzzの数：6 \n",
        "Fizzの数：27 \n",
        "Buzzの数：14\n",
        "othersの数：53  \n",
        "```"
      ],
      "metadata": {
        "id": "OqLuJTcWYzFt"
      }
    },
    {
      "cell_type": "code",
      "source": [
        "N = 100\n",
        "jud_list = ['Fizz', 'Buzz', 'FizzBuzz', 'others']\n",
        "\n",
        "def fb():\n",
        "  for i in range(1, N + 1):\n",
        "    if i % 3 == 0 and i % 5 == 0:\n",
        "      print(i, jud_list[2])\n",
        "    elif i % 3 == 0:\n",
        "      print(i, jud_list[0])\n",
        "    elif i % 5 == 0:\n",
        "      print(i, jud_list[1])\n",
        "    else:\n",
        "      print(i, jud_list[3])\n",
        "\n",
        "fb()"
      ],
      "metadata": {
        "id": "5kEDaVLmaEpb",
        "outputId": "570cd471-24af-4ca6-80fe-f0e30586ba9b",
        "colab": {
          "base_uri": "https://localhost:8080/"
        }
      },
      "execution_count": 11,
      "outputs": [
        {
          "output_type": "stream",
          "name": "stdout",
          "text": [
            "1 others\n",
            "2 others\n",
            "3 Fizz\n",
            "4 others\n",
            "5 Buzz\n",
            "6 Fizz\n",
            "7 others\n",
            "8 others\n",
            "9 Fizz\n",
            "10 Buzz\n",
            "11 others\n",
            "12 Fizz\n",
            "13 others\n",
            "14 others\n",
            "15 FizzBuzz\n",
            "16 others\n",
            "17 others\n",
            "18 Fizz\n",
            "19 others\n",
            "20 Buzz\n",
            "21 Fizz\n",
            "22 others\n",
            "23 others\n",
            "24 Fizz\n",
            "25 Buzz\n",
            "26 others\n",
            "27 Fizz\n",
            "28 others\n",
            "29 others\n",
            "30 FizzBuzz\n",
            "31 others\n",
            "32 others\n",
            "33 Fizz\n",
            "34 others\n",
            "35 Buzz\n",
            "36 Fizz\n",
            "37 others\n",
            "38 others\n",
            "39 Fizz\n",
            "40 Buzz\n",
            "41 others\n",
            "42 Fizz\n",
            "43 others\n",
            "44 others\n",
            "45 FizzBuzz\n",
            "46 others\n",
            "47 others\n",
            "48 Fizz\n",
            "49 others\n",
            "50 Buzz\n",
            "51 Fizz\n",
            "52 others\n",
            "53 others\n",
            "54 Fizz\n",
            "55 Buzz\n",
            "56 others\n",
            "57 Fizz\n",
            "58 others\n",
            "59 others\n",
            "60 FizzBuzz\n",
            "61 others\n",
            "62 others\n",
            "63 Fizz\n",
            "64 others\n",
            "65 Buzz\n",
            "66 Fizz\n",
            "67 others\n",
            "68 others\n",
            "69 Fizz\n",
            "70 Buzz\n",
            "71 others\n",
            "72 Fizz\n",
            "73 others\n",
            "74 others\n",
            "75 FizzBuzz\n",
            "76 others\n",
            "77 others\n",
            "78 Fizz\n",
            "79 others\n",
            "80 Buzz\n",
            "81 Fizz\n",
            "82 others\n",
            "83 others\n",
            "84 Fizz\n",
            "85 Buzz\n",
            "86 others\n",
            "87 Fizz\n",
            "88 others\n",
            "89 others\n",
            "90 FizzBuzz\n",
            "91 others\n",
            "92 others\n",
            "93 Fizz\n",
            "94 others\n",
            "95 Buzz\n",
            "96 Fizz\n",
            "97 others\n",
            "98 others\n",
            "99 Fizz\n",
            "100 Buzz\n"
          ]
        }
      ]
    }
  ]
}