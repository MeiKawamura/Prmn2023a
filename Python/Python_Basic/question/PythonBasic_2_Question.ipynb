{
  "nbformat": 4,
  "nbformat_minor": 0,
  "metadata": {
    "colab": {
      "provenance": [],
      "toc_visible": true,
      "include_colab_link": true
    },
    "kernelspec": {
      "name": "python3",
      "display_name": "Python 3"
    },
    "language_info": {
      "name": "python"
    }
  },
  "cells": [
    {
      "cell_type": "markdown",
      "metadata": {
        "id": "view-in-github",
        "colab_type": "text"
      },
      "source": [
        "<a href=\"https://colab.research.google.com/github/MeiKawamura/Prmn2023a/blob/main/Python/Python_Basic/question/PythonBasic_2_Question.ipynb\" target=\"_parent\"><img src=\"https://colab.research.google.com/assets/colab-badge.svg\" alt=\"Open In Colab\"/></a>"
      ]
    },
    {
      "cell_type": "markdown",
      "source": [
        "# 第2章 課題"
      ],
      "metadata": {
        "id": "C44SsXDACtHu"
      }
    },
    {
      "cell_type": "markdown",
      "source": [
        "## 課題1"
      ],
      "metadata": {
        "id": "OnkezWHRCwr9"
      }
    },
    {
      "cell_type": "markdown",
      "source": [
        "for文を使って、以下のように出力してください"
      ],
      "metadata": {
        "id": "q32rK-cECzCl"
      }
    },
    {
      "cell_type": "markdown",
      "source": [
        "![oSFeQoX.png](https://i.imgur.com/oSFeQoX.png)"
      ],
      "metadata": {
        "id": "FxMcxznVB6cI"
      }
    },
    {
      "cell_type": "code",
      "source": [
        "# 入力用\n",
        "for i in range(1, 4+1):\n",
        "  print('  ' * (4 - i) + '*' * (2*i - 1))\n"
      ],
      "metadata": {
        "id": "iBFSsrdRC5Zt",
        "outputId": "3ad88669-6147-43d0-8e69-c851c7c93101",
        "colab": {
          "base_uri": "https://localhost:8080/"
        }
      },
      "execution_count": 14,
      "outputs": [
        {
          "output_type": "stream",
          "name": "stdout",
          "text": [
            "      *\n",
            "    ***\n",
            "  *****\n",
            "*******\n"
          ]
        }
      ]
    },
    {
      "cell_type": "markdown",
      "source": [
        "## 課題2"
      ],
      "metadata": {
        "id": "gIn-UqGTCagu"
      }
    },
    {
      "cell_type": "markdown",
      "source": [
        "課題1の場合を`n=4`として、nを自分で設定して出力できるようにしてください"
      ],
      "metadata": {
        "id": "ltdiEdqYDFy8"
      }
    },
    {
      "cell_type": "markdown",
      "source": [
        "＜例＞ n=5の場合  \n",
        "![o5NjugQ.png](https://imgur.com/o5NjugQ.png)"
      ],
      "metadata": {
        "id": "hw0FM8BRDHz1"
      }
    },
    {
      "cell_type": "code",
      "source": [
        "# 入力用\n",
        "def moji(n):\n",
        "    for i in range(1, n+1):\n",
        "        print('  ' * (n - i) + '*' * (2*i - 1))\n",
        "\n",
        "moji(4)"
      ],
      "metadata": {
        "id": "upd76Tv-FrIB",
        "outputId": "79630247-25e7-4d0f-ebfb-f7c1e1268d3d",
        "colab": {
          "base_uri": "https://localhost:8080/"
        }
      },
      "execution_count": 16,
      "outputs": [
        {
          "output_type": "stream",
          "name": "stdout",
          "text": [
            "      *\n",
            "    ***\n",
            "  *****\n",
            "*******\n"
          ]
        }
      ]
    },
    {
      "cell_type": "markdown",
      "source": [
        "## 課題3"
      ],
      "metadata": {
        "id": "tLMJvwBDE7wT"
      }
    },
    {
      "cell_type": "markdown",
      "source": [
        "for文を使って、以下のように出力してください"
      ],
      "metadata": {
        "id": "vZNvWsG7E99q"
      }
    },
    {
      "cell_type": "markdown",
      "source": [
        "![oSirXec.png](https://imgur.com/oSirXec.png)"
      ],
      "metadata": {
        "id": "ijOV-ilXGDNR"
      }
    },
    {
      "cell_type": "code",
      "source": [
        "# 入力用\n",
        "\n",
        "for i in range(1, 5):\n",
        "  print('  ' * (5 - i) + '*' * (2*i - 1))\n",
        "for i in range(1,4):\n",
        "  print('  ' * (i) + '*' * (2*(3-i) + 1))"
      ],
      "metadata": {
        "id": "Q5Ob9uZpGIE3",
        "outputId": "8d7ead98-109b-485d-924c-f39f7fe85c4f",
        "colab": {
          "base_uri": "https://localhost:8080/"
        }
      },
      "execution_count": 28,
      "outputs": [
        {
          "output_type": "stream",
          "name": "stdout",
          "text": [
            "        *\n",
            "      ***\n",
            "    *****\n",
            "  *******\n",
            "  *****\n",
            "    ***\n",
            "      *\n"
          ]
        }
      ]
    },
    {
      "cell_type": "markdown",
      "source": [
        "## 課題4"
      ],
      "metadata": {
        "id": "Oh7whOPkGQ3I"
      }
    },
    {
      "cell_type": "markdown",
      "source": [
        "課題3の場合を`n=4`として、nを自分で設定して出力できるようにしてください"
      ],
      "metadata": {
        "id": "PnvT8MQbGS03"
      }
    },
    {
      "cell_type": "markdown",
      "source": [
        "＜例＞ n=5の場合  \n",
        "\n",
        "![my4J17V.png](https://i.imgur.com/my4J17V.png)"
      ],
      "metadata": {
        "id": "ZujkAbVMGzhn"
      }
    },
    {
      "cell_type": "code",
      "source": [
        "# 入力用\n",
        "def moji(n):\n",
        "    for i in range(1, n+1):\n",
        "        print('  ' * (n - i) + '*' * (2*i - 1))\n",
        "\n",
        "def moji2(m):\n",
        "  for i in range(1,m):\n",
        "    print('  ' * (i) + '*' * (2*(m-1-i) + 1))\n",
        "\n",
        "moji(4)\n",
        "moji2(4)"
      ],
      "metadata": {
        "id": "hCFNQ7mWG99u",
        "outputId": "3a724343-5794-4506-9ed6-14a452297290",
        "colab": {
          "base_uri": "https://localhost:8080/"
        }
      },
      "execution_count": 29,
      "outputs": [
        {
          "output_type": "stream",
          "name": "stdout",
          "text": [
            "      *\n",
            "    ***\n",
            "  *****\n",
            "*******\n",
            "  *****\n",
            "    ***\n",
            "      *\n"
          ]
        }
      ]
    },
    {
      "cell_type": "markdown",
      "source": [
        "## 課題5"
      ],
      "metadata": {
        "id": "R2MvOK4wHJlK"
      }
    },
    {
      "cell_type": "markdown",
      "source": [
        "for文を使って、以下のように出力してください"
      ],
      "metadata": {
        "id": "ddMIUoaKHcwd"
      }
    },
    {
      "cell_type": "markdown",
      "source": [
        "![vDUi5eM.png](https://imgur.com/vDUi5eM.png)"
      ],
      "metadata": {
        "id": "CD1cVUlWHLVO"
      }
    },
    {
      "cell_type": "code",
      "source": [
        "# 入力用\n",
        "for i in range(1, 5):\n",
        "  print('  ' * (4 - i) + '*' * (2*i - 1) + '  ' * (8 - (2*i + 1)) + '*' * (2*i - 1))\n",
        "\n",
        "for i in range(1,4):\n",
        "    print('  ' * (i) + '*' * (2*(3-i) + 1) + '  ' * (2*i - 1) + '*' * (2*(3-i) + 1))\n"
      ],
      "metadata": {
        "id": "1pDkfJpUHd93",
        "outputId": "364b0042-2b3d-48b0-b16e-a504becf2478",
        "colab": {
          "base_uri": "https://localhost:8080/"
        }
      },
      "execution_count": 39,
      "outputs": [
        {
          "output_type": "stream",
          "name": "stdout",
          "text": [
            "      *          *\n",
            "    ***      ***\n",
            "  *****  *****\n",
            "**************\n",
            "  *****  *****\n",
            "    ***      ***\n",
            "      *          *\n"
          ]
        }
      ]
    },
    {
      "cell_type": "markdown",
      "source": [
        "## 課題6"
      ],
      "metadata": {
        "id": "oubbafOBHerl"
      }
    },
    {
      "cell_type": "markdown",
      "source": [
        "課題5の場合を`n=4`として、nを自分で設定して出力できるようにしてください"
      ],
      "metadata": {
        "id": "7SzgFdC-HzG9"
      }
    },
    {
      "cell_type": "markdown",
      "source": [
        "＜例＞ n=5の場合  \n",
        "\n",
        "![udkVlYG.png](https://imgur.com/udkVlYG.png)"
      ],
      "metadata": {
        "id": "LY8g9PVPH2OW"
      }
    },
    {
      "cell_type": "code",
      "source": [
        "# 入力用\n",
        "def moji(n):\n",
        "    for i in range(1, n+1):\n",
        "        print('  ' * (n - i) + '*' * (2*i - 1) + '  ' * (2*n - (2*i + 1)) + '*' * (2*i - 1))\n",
        "\n",
        "def moji2(m):\n",
        "  for i in range(1,m):\n",
        "    print('  ' * (i) + '*' * (2*(m-1-i) + 1) + '  ' * (2*i - 1) + '*' * (2*(m-1-i) + 1))\n",
        "\n",
        "moji(4)\n",
        "moji2(4)"
      ],
      "metadata": {
        "id": "XZOK5ulbH-tu",
        "outputId": "b9915e50-96be-4f49-ab86-47298a58063f",
        "colab": {
          "base_uri": "https://localhost:8080/"
        }
      },
      "execution_count": 38,
      "outputs": [
        {
          "output_type": "stream",
          "name": "stdout",
          "text": [
            "      *          *\n",
            "    ***      ***\n",
            "  *****  *****\n",
            "**************\n",
            "  *****  *****\n",
            "    ***      ***\n",
            "      *          *\n"
          ]
        }
      ]
    },
    {
      "cell_type": "markdown",
      "source": [
        "## 課題7"
      ],
      "metadata": {
        "id": "ouqTUmPQIKGF"
      }
    },
    {
      "cell_type": "markdown",
      "source": [
        "for文を使って、以下のように出力してください"
      ],
      "metadata": {
        "id": "WHSxdOHuIMRM"
      }
    },
    {
      "cell_type": "markdown",
      "source": [
        "![IuP0M16.png](https://imgur.com/IuP0M16.png)"
      ],
      "metadata": {
        "id": "-G--WFTkIM8s"
      }
    },
    {
      "cell_type": "code",
      "source": [
        "# 入力用\n",
        "s = 1\n",
        "\n",
        "def star(n, m):\n",
        "    for i in range(s, n + 1):\n",
        "        print('  ' * (n - i) + '*' * (2 * i - 1) + '  ' * (2 * n - (2 * i + 1)) + '*' * (2 * i - 1))\n",
        "    for i in range(s, m):\n",
        "        print('  ' * (i) + '*' * (2 * (m - 1 - i) + 1) + '  ' * (2 * i - 1) + '*' * (2 * (m - 1 - i) + 1))\n",
        "\n",
        "star(4, 4)\n",
        "s = 2\n",
        "star(4, 4)"
      ],
      "metadata": {
        "id": "BVXjDteuIijL",
        "outputId": "8ced3ba9-0e5a-47cb-995b-d508921f6664",
        "colab": {
          "base_uri": "https://localhost:8080/"
        }
      },
      "execution_count": 63,
      "outputs": [
        {
          "output_type": "stream",
          "name": "stdout",
          "text": [
            "      *          *\n",
            "    ***      ***\n",
            "  *****  *****\n",
            "**************\n",
            "  *****  *****\n",
            "    ***      ***\n",
            "      *          *\n",
            "    ***      ***\n",
            "  *****  *****\n",
            "**************\n",
            "    ***      ***\n",
            "      *          *\n"
          ]
        }
      ]
    },
    {
      "cell_type": "markdown",
      "source": [
        "## 課題8"
      ],
      "metadata": {
        "id": "31u0ExX2IjWj"
      }
    },
    {
      "cell_type": "markdown",
      "source": [
        "課題7の場合を`n=4`として、nを自分で設定して出力できるようにしてください"
      ],
      "metadata": {
        "id": "zeOvmKarInpz"
      }
    },
    {
      "cell_type": "markdown",
      "source": [
        "＜例＞ n=5の場合  \n",
        "\n",
        "![AlTnu1k.png](https://imgur.com/AlTnu1k.png)"
      ],
      "metadata": {
        "id": "2uLR5sbKIov2"
      }
    },
    {
      "cell_type": "code",
      "source": [
        "# 入力用\n",
        "s = 1\n",
        "\n",
        "def star(n, m):\n",
        "    for i in range(s, n + 1):\n",
        "        print('  ' * (n - i) + '*' * (2 * i - 1) + '  ' * (2 * n - (2 * i + 1)) + '*' * (2 * i - 1))\n",
        "    for i in range(s, m):\n",
        "        print('  ' * (i) + '*' * (2 * (m - 1 - i) + 1) + '  ' * (2 * i - 1) + '*' * (2 * (m - 1 - i) + 1))\n",
        "\n",
        "l = int(input('何段？'))\n",
        "star(4, 4)\n",
        "if l > 1:\n",
        "    s = 2\n",
        "    for i in range(l-1):\n",
        "      star(4, 4)"
      ],
      "metadata": {
        "id": "TXJaIVbYI_Cd"
      },
      "execution_count": null,
      "outputs": []
    }
  ]
}